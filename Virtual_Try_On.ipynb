{
  "nbformat": 4,
  "nbformat_minor": 0,
  "metadata": {
    "colab": {
      "name": "Virtual Try-On.ipynb",
      "provenance": [],
      "toc_visible": true,
      "authorship_tag": "ABX9TyOq5dRiHWK293K8wsNL7Stp",
      "include_colab_link": true
    },
    "kernelspec": {
      "name": "python3",
      "display_name": "Python 3"
    },
    "language_info": {
      "name": "python"
    },
    "accelerator": "GPU"
  },
  "cells": [
    {
      "cell_type": "markdown",
      "metadata": {
        "id": "view-in-github",
        "colab_type": "text"
      },
      "source": [
        "<a href=\"https://colab.research.google.com/github/arpmay/PF-AFN/blob/main/Virtual_Try_On.ipynb\" target=\"_parent\"><img src=\"https://colab.research.google.com/assets/colab-badge.svg\" alt=\"Open In Colab\"/></a>"
      ]
    },
    {
      "cell_type": "markdown",
      "metadata": {
        "id": "5DBf_U3NG0Sd"
      },
      "source": [
        "INSTRUCTIONS:\n",
        "0. THIS CODE IS BASED ON THE ORIGINAL CODE: https://github.com/geyuying/PF-AFN . I HAVE PATCHED IT TO WORK WITH THE NEW CUPY LIBRARY. REFER TO: https://github.com/arpmay/PF-AFN FOR THE PATCHED VERSION.\n",
        "1. DOWNLOAD CHECKPOINTS FROM : https://drive.google.com/file/d/1_a0AiN8Y_d_9TNDhHIcRlERz3zptyYWV/view?usp=sharing\n",
        "2. UNZIP CHECKPOINTS AND UPLOAD TO YOUR GOOGLE DRIVE. THE CODE WILL MOUNT YOUR DRIVE AND COPY CHECKPOINTS FROM YOUR DRIVE TO RUNTIME ENVIRONMENT.\n",
        "3. RUN THE NOTEBOOK. THE INPUT IMAGES FOR TEST ARE INCLUDED IN THE IMPORTED REPO. THE RESULTS BASED ON THE INCLUDED IMAGES CAN BE FOUND IN RESULTS.ZIP IN WORKING DIRECTORY."
      ]
    },
    {
      "cell_type": "markdown",
      "metadata": {
        "id": "292KypOLUqd4"
      },
      "source": [
        "INSTALLING CONDA ON COLAB"
      ]
    },
    {
      "cell_type": "code",
      "metadata": {
        "id": "Xis-Vfq-_JCd"
      },
      "source": [
        "################################################################################\n",
        "# INSTALL CONDA ON GOOGLE COLAB\n",
        "################################################################################\n",
        "! wget https://repo.anaconda.com/miniconda/Miniconda3-py37_4.8.2-Linux-x86_64.sh\n",
        "! chmod +x Miniconda3-py37_4.8.2-Linux-x86_64.sh\n",
        "! bash ./Miniconda3-py37_4.8.2-Linux-x86_64.sh -b -f -p /usr/local\n",
        "import sys\n",
        "sys.path.append('/usr/local/lib/python3.7/site-packages/')"
      ],
      "execution_count": null,
      "outputs": []
    },
    {
      "cell_type": "markdown",
      "metadata": {
        "id": "wDBbnPyjUyrM"
      },
      "source": [
        "INSTALLING DEPENDENCIES"
      ]
    },
    {
      "cell_type": "code",
      "metadata": {
        "id": "jvTLstz6_3Jf"
      },
      "source": [
        "!conda create -n tryon python=3.6\n",
        "\n",
        "!conda activate tryon\n",
        "\n",
        "!conda install pytorch=1.1.0 torchvision=0.3.0 cudatoolkit=9.0 -c pytorch\n",
        "\n",
        "!pip install cupy-cuda100\n",
        "\n",
        "!pip install opencv-python\n",
        "\n"
      ],
      "execution_count": null,
      "outputs": []
    },
    {
      "cell_type": "markdown",
      "metadata": {
        "id": "qv_eKrWZVZ0p"
      },
      "source": [
        "IMPORTING THE MODEL"
      ]
    },
    {
      "cell_type": "code",
      "metadata": {
        "id": "solrokZUkg5D"
      },
      "source": [
        "!git clone https://github.com/arpmay/PF-AFN.git"
      ],
      "execution_count": null,
      "outputs": []
    },
    {
      "cell_type": "code",
      "metadata": {
        "id": "Cm0_RrjXksGD"
      },
      "source": [
        "from google.colab import drive\n",
        "drive.mount('/content/drive')\n",
        "!rm -r /content/PF-AFN/PF-AFN_test/checkpoints\n",
        "!cp -R /content/drive/MyDrive/checkpoints/checkpoints /content/PF-AFN/PF-AFN_test/\n",
        "!ls -la /content/PF-AFN/PF-AFN_test/checkpoints"
      ],
      "execution_count": null,
      "outputs": []
    },
    {
      "cell_type": "markdown",
      "metadata": {
        "id": "DH32e1vkV6xE"
      },
      "source": [
        "RUN THE MODEL TEST CODE"
      ]
    },
    {
      "cell_type": "code",
      "metadata": {
        "id": "R1YfdrZNlWyg"
      },
      "source": [
        "!python test.py --name demo --resize_or_crop None --batchSize 1 --gpu_ids 0\n"
      ],
      "execution_count": null,
      "outputs": []
    },
    {
      "cell_type": "markdown",
      "metadata": {
        "id": "TlWgT5dHV1oL"
      },
      "source": [
        "ZIP THE RESULTS IN results.zip"
      ]
    },
    {
      "cell_type": "code",
      "metadata": {
        "id": "qETf8GmxLbqd"
      },
      "source": [
        "!zip -r /content/results.zip /content/PF-AFN/PF-AFN_test/results/demo/PFAFN"
      ],
      "execution_count": null,
      "outputs": []
    }
  ]
}